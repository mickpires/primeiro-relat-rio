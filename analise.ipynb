{
 "cells": [
  {
   "cell_type": "code",
   "execution_count": 68,
   "metadata": {},
   "outputs": [],
   "source": [
    "import pandas as pd\n",
    "import numpy as np\n",
    "import matplotlib.pyplot as plt\n",
    "from sklearn.linear_model import LinearRegression\n",
    "from sklearn.metrics import r2_score"
   ]
  },
  {
   "cell_type": "code",
   "execution_count": 69,
   "metadata": {},
   "outputs": [],
   "source": [
    "volts = np.arange(20,0,-1)\n",
    "dados = pd.DataFrame({ # é os tempos\n",
    "    \"primeira gravação\": np.array([0,.49,.99,1.87,2.24,2.43,2.93,3.71,4.48,5.27,6,6.32,7.89,8.74,9.92,12.10,15.4,16.4,17.76,25.88]),\n",
    "    \"segunda gravação\": np.array([0,0.72,1.38,1.38,1.92,2.55,3.19,3.98,4.74,5.30,6.87,7.49,8.70,9.40,10.37,12.50,14.33,16.55,19.93,27.32]),\n",
    "    \"terceira gravação\": np.array([0,.48,.88,1.52,2.23,2.90,3.26,3.86,4.74,5.28,6.06,6.80,8.05,9.14,10.39,11.33,13.99,16.76,20.03,26.65]),\n",
    "    \"quarta gravação\": np.array([0,0.73,1.05,1.35,2.06,2.49,3.28,3.91,4.64,5.44,6.28,7.04,7.68,8.94,10.32,11,13.71,16.62,20.14,26.94]),\n",
    "    \"quinta gravação:\": np.array([0,0.72,1.20,1.74,2.27,2.78,3.46,3.94,4.84,5.50,6.38,7.12,8,9.58,10.73,12.25,14.40,16.73,20.20,26.58])\n",
    "},index = volts)"
   ]
  },
  {
   "cell_type": "code",
   "execution_count": 70,
   "metadata": {},
   "outputs": [
    {
     "data": {
      "text/plain": [
       "array([20, 19, 18, 17, 16, 15, 14, 13, 12, 11, 10,  9,  8,  7,  6,  5,  4,\n",
       "        3,  2,  1])"
      ]
     },
     "execution_count": 70,
     "metadata": {},
     "output_type": "execute_result"
    }
   ],
   "source": [
    "volts"
   ]
  },
  {
   "cell_type": "code",
   "execution_count": 71,
   "metadata": {},
   "outputs": [],
   "source": [
    "media = dados.mean(axis=1) # faz a operação para cada linhas"
   ]
  },
  {
   "cell_type": "code",
   "execution_count": 72,
   "metadata": {},
   "outputs": [
    {
     "data": {
      "text/plain": [
       "20     0.000\n",
       "19     0.628\n",
       "18     1.100\n",
       "17     1.572\n",
       "16     2.144\n",
       "15     2.630\n",
       "14     3.224\n",
       "13     3.880\n",
       "12     4.688\n",
       "11     5.358\n",
       "10     6.318\n",
       "9      6.954\n",
       "8      8.064\n",
       "7      9.160\n",
       "6     10.346\n",
       "5     11.836\n",
       "4     14.366\n",
       "3     16.612\n",
       "2     19.612\n",
       "1     26.674\n",
       "dtype: float64"
      ]
     },
     "execution_count": 72,
     "metadata": {},
     "output_type": "execute_result"
    }
   ],
   "source": [
    "media"
   ]
  },
  {
   "cell_type": "code",
   "execution_count": 73,
   "metadata": {},
   "outputs": [],
   "source": [
    "tempo = np.array([media]).T"
   ]
  },
  {
   "cell_type": "code",
   "execution_count": 74,
   "metadata": {},
   "outputs": [],
   "source": [
    "mediaerr = dados.std(axis=1)"
   ]
  },
  {
   "cell_type": "code",
   "execution_count": 75,
   "metadata": {},
   "outputs": [
    {
     "data": {
      "text/plain": [
       "array([0.        , 0.13065221, 0.19455076, 0.22687001, 0.14976648,\n",
       "       0.20087309, 0.1921718 , 0.10464225, 0.13608821, 0.10497619,\n",
       "       0.34557199, 0.43241184, 0.38292297, 0.33882149, 0.28814927,\n",
       "       0.63971087, 0.64096022, 0.14549914, 1.04046624, 0.53101789])"
      ]
     },
     "execution_count": 75,
     "metadata": {},
     "output_type": "execute_result"
    }
   ],
   "source": [
    "mediaerr.values"
   ]
  },
  {
   "cell_type": "markdown",
   "metadata": {},
   "source": [
    "Primeira gravação"
   ]
  },
  {
   "cell_type": "code",
   "execution_count": 76,
   "metadata": {},
   "outputs": [
    {
     "data": {
      "text/html": [
       "<style>#sk-container-id-5 {color: black;}#sk-container-id-5 pre{padding: 0;}#sk-container-id-5 div.sk-toggleable {background-color: white;}#sk-container-id-5 label.sk-toggleable__label {cursor: pointer;display: block;width: 100%;margin-bottom: 0;padding: 0.3em;box-sizing: border-box;text-align: center;}#sk-container-id-5 label.sk-toggleable__label-arrow:before {content: \"▸\";float: left;margin-right: 0.25em;color: #696969;}#sk-container-id-5 label.sk-toggleable__label-arrow:hover:before {color: black;}#sk-container-id-5 div.sk-estimator:hover label.sk-toggleable__label-arrow:before {color: black;}#sk-container-id-5 div.sk-toggleable__content {max-height: 0;max-width: 0;overflow: hidden;text-align: left;background-color: #f0f8ff;}#sk-container-id-5 div.sk-toggleable__content pre {margin: 0.2em;color: black;border-radius: 0.25em;background-color: #f0f8ff;}#sk-container-id-5 input.sk-toggleable__control:checked~div.sk-toggleable__content {max-height: 200px;max-width: 100%;overflow: auto;}#sk-container-id-5 input.sk-toggleable__control:checked~label.sk-toggleable__label-arrow:before {content: \"▾\";}#sk-container-id-5 div.sk-estimator input.sk-toggleable__control:checked~label.sk-toggleable__label {background-color: #d4ebff;}#sk-container-id-5 div.sk-label input.sk-toggleable__control:checked~label.sk-toggleable__label {background-color: #d4ebff;}#sk-container-id-5 input.sk-hidden--visually {border: 0;clip: rect(1px 1px 1px 1px);clip: rect(1px, 1px, 1px, 1px);height: 1px;margin: -1px;overflow: hidden;padding: 0;position: absolute;width: 1px;}#sk-container-id-5 div.sk-estimator {font-family: monospace;background-color: #f0f8ff;border: 1px dotted black;border-radius: 0.25em;box-sizing: border-box;margin-bottom: 0.5em;}#sk-container-id-5 div.sk-estimator:hover {background-color: #d4ebff;}#sk-container-id-5 div.sk-parallel-item::after {content: \"\";width: 100%;border-bottom: 1px solid gray;flex-grow: 1;}#sk-container-id-5 div.sk-label:hover label.sk-toggleable__label {background-color: #d4ebff;}#sk-container-id-5 div.sk-serial::before {content: \"\";position: absolute;border-left: 1px solid gray;box-sizing: border-box;top: 0;bottom: 0;left: 50%;z-index: 0;}#sk-container-id-5 div.sk-serial {display: flex;flex-direction: column;align-items: center;background-color: white;padding-right: 0.2em;padding-left: 0.2em;position: relative;}#sk-container-id-5 div.sk-item {position: relative;z-index: 1;}#sk-container-id-5 div.sk-parallel {display: flex;align-items: stretch;justify-content: center;background-color: white;position: relative;}#sk-container-id-5 div.sk-item::before, #sk-container-id-5 div.sk-parallel-item::before {content: \"\";position: absolute;border-left: 1px solid gray;box-sizing: border-box;top: 0;bottom: 0;left: 50%;z-index: -1;}#sk-container-id-5 div.sk-parallel-item {display: flex;flex-direction: column;z-index: 1;position: relative;background-color: white;}#sk-container-id-5 div.sk-parallel-item:first-child::after {align-self: flex-end;width: 50%;}#sk-container-id-5 div.sk-parallel-item:last-child::after {align-self: flex-start;width: 50%;}#sk-container-id-5 div.sk-parallel-item:only-child::after {width: 0;}#sk-container-id-5 div.sk-dashed-wrapped {border: 1px dashed gray;margin: 0 0.4em 0.5em 0.4em;box-sizing: border-box;padding-bottom: 0.4em;background-color: white;}#sk-container-id-5 div.sk-label label {font-family: monospace;font-weight: bold;display: inline-block;line-height: 1.2em;}#sk-container-id-5 div.sk-label-container {text-align: center;}#sk-container-id-5 div.sk-container {/* jupyter's `normalize.less` sets `[hidden] { display: none; }` but bootstrap.min.css set `[hidden] { display: none !important; }` so we also need the `!important` here to be able to override the default hidden behavior on the sphinx rendered scikit-learn.org. See: https://github.com/scikit-learn/scikit-learn/issues/21755 */display: inline-block !important;position: relative;}#sk-container-id-5 div.sk-text-repr-fallback {display: none;}</style><div id=\"sk-container-id-5\" class=\"sk-top-container\"><div class=\"sk-text-repr-fallback\"><pre>LinearRegression()</pre><b>In a Jupyter environment, please rerun this cell to show the HTML representation or trust the notebook. <br />On GitHub, the HTML representation is unable to render, please try loading this page with nbviewer.org.</b></div><div class=\"sk-container\" hidden><div class=\"sk-item\"><div class=\"sk-estimator sk-toggleable\"><input class=\"sk-toggleable__control sk-hidden--visually\" id=\"sk-estimator-id-5\" type=\"checkbox\" checked><label for=\"sk-estimator-id-5\" class=\"sk-toggleable__label sk-toggleable__label-arrow\">LinearRegression</label><div class=\"sk-toggleable__content\"><pre>LinearRegression()</pre></div></div></div></div></div>"
      ],
      "text/plain": [
       "LinearRegression()"
      ]
     },
     "execution_count": 76,
     "metadata": {},
     "output_type": "execute_result"
    }
   ],
   "source": [
    "model1 = LinearRegression()\n",
    "\n",
    "model1.fit(tempo,np.log(volts))"
   ]
  },
  {
   "cell_type": "code",
   "execution_count": 77,
   "metadata": {},
   "outputs": [
    {
     "data": {
      "text/plain": [
       "array([2.99573227, 2.94443898, 2.89037176, 2.83321334, 2.77258872,\n",
       "       2.7080502 , 2.63905733, 2.56494936, 2.48490665, 2.39789527,\n",
       "       2.30258509, 2.19722458, 2.07944154, 1.94591015, 1.79175947,\n",
       "       1.60943791, 1.38629436, 1.09861229, 0.69314718, 0.        ])"
      ]
     },
     "execution_count": 77,
     "metadata": {},
     "output_type": "execute_result"
    }
   ],
   "source": [
    "np.log(volts)"
   ]
  },
  {
   "cell_type": "code",
   "execution_count": 80,
   "metadata": {},
   "outputs": [
    {
     "ename": "ValueError",
     "evalue": "operands could not be broadcast together with shapes (20,1) (2,20) ",
     "output_type": "error",
     "traceback": [
      "\u001b[1;31m---------------------------------------------------------------------------\u001b[0m",
      "\u001b[1;31mValueError\u001b[0m                                Traceback (most recent call last)",
      "\u001b[1;32mc:\\Users\\micka\\OneDrive\\Área de Trabalho\\faculdade\\6º semestre\\experimental 3\\primeiro relatório\\analise.ipynb Cell 12\u001b[0m line \u001b[0;36m1\n\u001b[1;32m----> <a href='vscode-notebook-cell:/c%3A/Users/micka/OneDrive/%C3%81rea%20de%20Trabalho/faculdade/6%C2%BA%20semestre/experimental%203/primeiro%20relat%C3%B3rio/analise.ipynb#X11sZmlsZQ%3D%3D?line=0'>1</a>\u001b[0m plt\u001b[39m.\u001b[39;49merrorbar(tempo,np\u001b[39m.\u001b[39;49mlog(volts),xerr\u001b[39m=\u001b[39;49mmediaerr\u001b[39m.\u001b[39;49mvalues,fmt\u001b[39m=\u001b[39;49m\u001b[39m'\u001b[39;49m\u001b[39mo\u001b[39;49m\u001b[39m'\u001b[39;49m,markersize\u001b[39m=\u001b[39;49m\u001b[39m5\u001b[39;49m,ecolor\u001b[39m=\u001b[39;49m\u001b[39m'\u001b[39;49m\u001b[39mred\u001b[39;49m\u001b[39m'\u001b[39;49m,label\u001b[39m=\u001b[39;49m\u001b[39m\"\u001b[39;49m\u001b[39mmédia dos dados\u001b[39;49m\u001b[39m\"\u001b[39;49m)\n\u001b[0;32m      <a href='vscode-notebook-cell:/c%3A/Users/micka/OneDrive/%C3%81rea%20de%20Trabalho/faculdade/6%C2%BA%20semestre/experimental%203/primeiro%20relat%C3%B3rio/analise.ipynb#X11sZmlsZQ%3D%3D?line=1'>2</a>\u001b[0m plt\u001b[39m.\u001b[39mplot(tempo,model1\u001b[39m.\u001b[39mpredict(tempo))\n\u001b[0;32m      <a href='vscode-notebook-cell:/c%3A/Users/micka/OneDrive/%C3%81rea%20de%20Trabalho/faculdade/6%C2%BA%20semestre/experimental%203/primeiro%20relat%C3%B3rio/analise.ipynb#X11sZmlsZQ%3D%3D?line=2'>3</a>\u001b[0m plt\u001b[39m.\u001b[39mtitle(\u001b[39m\"\u001b[39m\u001b[39mln(v) vs tempo (s)\u001b[39m\u001b[39m\"\u001b[39m)\n",
      "File \u001b[1;32mc:\\Users\\micka\\AppData\\Local\\Programs\\Python\\Python311\\Lib\\site-packages\\matplotlib\\pyplot.py:2564\u001b[0m, in \u001b[0;36merrorbar\u001b[1;34m(x, y, yerr, xerr, fmt, ecolor, elinewidth, capsize, barsabove, lolims, uplims, xlolims, xuplims, errorevery, capthick, data, **kwargs)\u001b[0m\n\u001b[0;32m   2558\u001b[0m \u001b[39m@_copy_docstring_and_deprecators\u001b[39m(Axes\u001b[39m.\u001b[39merrorbar)\n\u001b[0;32m   2559\u001b[0m \u001b[39mdef\u001b[39;00m \u001b[39merrorbar\u001b[39m(\n\u001b[0;32m   2560\u001b[0m         x, y, yerr\u001b[39m=\u001b[39m\u001b[39mNone\u001b[39;00m, xerr\u001b[39m=\u001b[39m\u001b[39mNone\u001b[39;00m, fmt\u001b[39m=\u001b[39m\u001b[39m'\u001b[39m\u001b[39m'\u001b[39m, ecolor\u001b[39m=\u001b[39m\u001b[39mNone\u001b[39;00m,\n\u001b[0;32m   2561\u001b[0m         elinewidth\u001b[39m=\u001b[39m\u001b[39mNone\u001b[39;00m, capsize\u001b[39m=\u001b[39m\u001b[39mNone\u001b[39;00m, barsabove\u001b[39m=\u001b[39m\u001b[39mFalse\u001b[39;00m, lolims\u001b[39m=\u001b[39m\u001b[39mFalse\u001b[39;00m,\n\u001b[0;32m   2562\u001b[0m         uplims\u001b[39m=\u001b[39m\u001b[39mFalse\u001b[39;00m, xlolims\u001b[39m=\u001b[39m\u001b[39mFalse\u001b[39;00m, xuplims\u001b[39m=\u001b[39m\u001b[39mFalse\u001b[39;00m, errorevery\u001b[39m=\u001b[39m\u001b[39m1\u001b[39m,\n\u001b[0;32m   2563\u001b[0m         capthick\u001b[39m=\u001b[39m\u001b[39mNone\u001b[39;00m, \u001b[39m*\u001b[39m, data\u001b[39m=\u001b[39m\u001b[39mNone\u001b[39;00m, \u001b[39m*\u001b[39m\u001b[39m*\u001b[39mkwargs):\n\u001b[1;32m-> 2564\u001b[0m     \u001b[39mreturn\u001b[39;00m gca()\u001b[39m.\u001b[39;49merrorbar(\n\u001b[0;32m   2565\u001b[0m         x, y, yerr\u001b[39m=\u001b[39;49myerr, xerr\u001b[39m=\u001b[39;49mxerr, fmt\u001b[39m=\u001b[39;49mfmt, ecolor\u001b[39m=\u001b[39;49mecolor,\n\u001b[0;32m   2566\u001b[0m         elinewidth\u001b[39m=\u001b[39;49melinewidth, capsize\u001b[39m=\u001b[39;49mcapsize, barsabove\u001b[39m=\u001b[39;49mbarsabove,\n\u001b[0;32m   2567\u001b[0m         lolims\u001b[39m=\u001b[39;49mlolims, uplims\u001b[39m=\u001b[39;49muplims, xlolims\u001b[39m=\u001b[39;49mxlolims,\n\u001b[0;32m   2568\u001b[0m         xuplims\u001b[39m=\u001b[39;49mxuplims, errorevery\u001b[39m=\u001b[39;49merrorevery, capthick\u001b[39m=\u001b[39;49mcapthick,\n\u001b[0;32m   2569\u001b[0m         \u001b[39m*\u001b[39;49m\u001b[39m*\u001b[39;49m({\u001b[39m\"\u001b[39;49m\u001b[39mdata\u001b[39;49m\u001b[39m\"\u001b[39;49m: data} \u001b[39mif\u001b[39;49;00m data \u001b[39mis\u001b[39;49;00m \u001b[39mnot\u001b[39;49;00m \u001b[39mNone\u001b[39;49;00m \u001b[39melse\u001b[39;49;00m {}), \u001b[39m*\u001b[39;49m\u001b[39m*\u001b[39;49mkwargs)\n",
      "File \u001b[1;32mc:\\Users\\micka\\AppData\\Local\\Programs\\Python\\Python311\\Lib\\site-packages\\matplotlib\\__init__.py:1461\u001b[0m, in \u001b[0;36m_preprocess_data.<locals>.inner\u001b[1;34m(ax, data, *args, **kwargs)\u001b[0m\n\u001b[0;32m   1458\u001b[0m \u001b[39m@functools\u001b[39m\u001b[39m.\u001b[39mwraps(func)\n\u001b[0;32m   1459\u001b[0m \u001b[39mdef\u001b[39;00m \u001b[39minner\u001b[39m(ax, \u001b[39m*\u001b[39margs, data\u001b[39m=\u001b[39m\u001b[39mNone\u001b[39;00m, \u001b[39m*\u001b[39m\u001b[39m*\u001b[39mkwargs):\n\u001b[0;32m   1460\u001b[0m     \u001b[39mif\u001b[39;00m data \u001b[39mis\u001b[39;00m \u001b[39mNone\u001b[39;00m:\n\u001b[1;32m-> 1461\u001b[0m         \u001b[39mreturn\u001b[39;00m func(ax, \u001b[39m*\u001b[39;49m\u001b[39mmap\u001b[39;49m(sanitize_sequence, args), \u001b[39m*\u001b[39;49m\u001b[39m*\u001b[39;49mkwargs)\n\u001b[0;32m   1463\u001b[0m     bound \u001b[39m=\u001b[39m new_sig\u001b[39m.\u001b[39mbind(ax, \u001b[39m*\u001b[39margs, \u001b[39m*\u001b[39m\u001b[39m*\u001b[39mkwargs)\n\u001b[0;32m   1464\u001b[0m     auto_label \u001b[39m=\u001b[39m (bound\u001b[39m.\u001b[39marguments\u001b[39m.\u001b[39mget(label_namer)\n\u001b[0;32m   1465\u001b[0m                   \u001b[39mor\u001b[39;00m bound\u001b[39m.\u001b[39mkwargs\u001b[39m.\u001b[39mget(label_namer))\n",
      "File \u001b[1;32mc:\\Users\\micka\\AppData\\Local\\Programs\\Python\\Python311\\Lib\\site-packages\\matplotlib\\axes\\_axes.py:3642\u001b[0m, in \u001b[0;36mAxes.errorbar\u001b[1;34m(self, x, y, yerr, xerr, fmt, ecolor, elinewidth, capsize, barsabove, lolims, uplims, xlolims, xuplims, errorevery, capthick, **kwargs)\u001b[0m\n\u001b[0;32m   3636\u001b[0m     \u001b[39mraise\u001b[39;00m \u001b[39mValueError\u001b[39;00m(\n\u001b[0;32m   3637\u001b[0m         \u001b[39mf\u001b[39m\u001b[39m\"\u001b[39m\u001b[39m'\u001b[39m\u001b[39m{\u001b[39;00mdep_axis\u001b[39m}\u001b[39;00m\u001b[39merr\u001b[39m\u001b[39m'\u001b[39m\u001b[39m must not contain negative values\u001b[39m\u001b[39m\"\u001b[39m)\n\u001b[0;32m   3638\u001b[0m \u001b[39m# This is like\u001b[39;00m\n\u001b[0;32m   3639\u001b[0m \u001b[39m#     elow, ehigh = np.broadcast_to(...)\u001b[39;00m\n\u001b[0;32m   3640\u001b[0m \u001b[39m#     return dep - elow * ~lolims, dep + ehigh * ~uplims\u001b[39;00m\n\u001b[0;32m   3641\u001b[0m \u001b[39m# except that broadcast_to would strip units.\u001b[39;00m\n\u001b[1;32m-> 3642\u001b[0m low, high \u001b[39m=\u001b[39m dep \u001b[39m+\u001b[39;49m np\u001b[39m.\u001b[39;49mrow_stack([\u001b[39m-\u001b[39;49m(\u001b[39m1\u001b[39;49m \u001b[39m-\u001b[39;49m lolims), \u001b[39m1\u001b[39;49m \u001b[39m-\u001b[39;49m uplims]) \u001b[39m*\u001b[39;49m err\n\u001b[0;32m   3643\u001b[0m barcols\u001b[39m.\u001b[39mappend(lines_func(\n\u001b[0;32m   3644\u001b[0m     \u001b[39m*\u001b[39mapply_mask([indep, low, high], everymask), \u001b[39m*\u001b[39m\u001b[39m*\u001b[39meb_lines_style))\n\u001b[0;32m   3645\u001b[0m \u001b[39mif\u001b[39;00m \u001b[39mself\u001b[39m\u001b[39m.\u001b[39mname \u001b[39m==\u001b[39m \u001b[39m\"\u001b[39m\u001b[39mpolar\u001b[39m\u001b[39m\"\u001b[39m \u001b[39mand\u001b[39;00m dep_axis \u001b[39m==\u001b[39m \u001b[39m\"\u001b[39m\u001b[39mx\u001b[39m\u001b[39m\"\u001b[39m:\n",
      "\u001b[1;31mValueError\u001b[0m: operands could not be broadcast together with shapes (20,1) (2,20) "
     ]
    },
    {
     "data": {
      "image/png": "[encoded data removed]",
      "text/plain": [
       "<Figure size 640x480 with 1 Axes>"
      ]
     },
     "metadata": {},
     "output_type": "display_data"
    }
   ],
   "source": [
    "plt.errorbar(tempo,np.log(volts),xerr=mediaerr.values,fmt='o',markersize=5,ecolor='red',label=\"média dos dados\")\n",
    "plt.plot(tempo,model1.predict(tempo))\n",
    "plt.title(\"ln(v) vs tempo (s)\")\n",
    "plt.ylabel(\"ln(v)\")\n",
    "plt.xlabel(\"tempo (s)\")"
   ]
  },
  {
   "cell_type": "code",
   "execution_count": null,
   "metadata": {},
   "outputs": [
    {
     "name": "stdout",
     "output_type": "stream",
     "text": [
      "coeficiente angular: [-0.11483933]\n",
      "coeficiente linear: 3.0077387856433795\n",
      "coeficiente de determinação (R²): 0.9990849722665431\n"
     ]
    }
   ],
   "source": [
    "print(f'coeficiente angular: {model1.coef_}')\n",
    "print(f'coeficiente linear: {model1.intercept_}')\n",
    "print(f'coeficiente de determinação (R²): {r2_score(np.log(volts),model1.predict(tempo))}')"
   ]
  },
  {
   "cell_type": "code",
   "execution_count": null,
   "metadata": {},
   "outputs": [
    {
     "data": {
      "text/plain": [
       "<matplotlib.legend.Legend at 0x220c07ddf50>"
      ]
     },
     "execution_count": 75,
     "metadata": {},
     "output_type": "execute_result"
    },
    {
     "data": {
      "image/png": "[encoded data removed]",
      "text/plain": [
       "<Figure size 640x480 with 1 Axes>"
      ]
     },
     "metadata": {},
     "output_type": "display_data"
    }
   ],
   "source": [
    "mediaerr = np.array([0,0.2,.01,.01,.004,.004,0,.005,0,0])\n",
    "plt.errorbar(tempo,logmedia,yerr=mediaerr,fmt='o',markersize=5,ecolor='red',label=\"média dos dados\")\n",
    "plt.plot(tempo,model.predict(tempo),label=\"Regressão linear\")\n",
    "plt.title(\"ln V vs tempo\")\n",
    "plt.ylabel(\"ln V\")\n",
    "plt.xlabel(\"tempo (s)\")\n",
    "plt.grid()\n",
    "plt.legend()"
   ]
  },
  {
   "cell_type": "code",
   "execution_count": null,
   "metadata": {},
   "outputs": [
    {
     "name": "stdout",
     "output_type": "stream",
     "text": [
      "coeficiente angular: [-0.06799026]\n",
      "coeficiente linear: 2.065659224472435\n",
      "coeficiente de determinação (R²): 0.9464760078765265\n"
     ]
    }
   ],
   "source": [
    "print(f'coeficiente angular: {model.coef_}')\n",
    "print(f'coeficiente linear: {model.intercept_}')\n",
    "print(f'coeficiente de determinação (R²): {r2_score(logmedia,model.predict(tempo))}')"
   ]
  }
 ],
 "metadata": {
  "kernelspec": {
   "display_name": "Python 3",
   "language": "python",
   "name": "python3"
  },
  "language_info": {
   "codemirror_mode": {
    "name": "ipython",
    "version": 3
   },
   "file_extension": ".py",
   "mimetype": "text/x-python",
   "name": "python",
   "nbconvert_exporter": "python",
   "pygments_lexer": "ipython3",
   "version": "3.11.4"
  },
  "orig_nbformat": 4
 },
 "nbformat": 4,
 "nbformat_minor": 2
}
