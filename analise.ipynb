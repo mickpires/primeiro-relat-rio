{
 "cells": [
  {
   "cell_type": "code",
   "execution_count": 140,
   "metadata": {},
   "outputs": [],
   "source": [
    "import pandas as pd\n",
    "import numpy as np\n",
    "import matplotlib.pyplot as plt\n",
    "from sklearn.linear_model import LinearRegression\n",
    "from sklearn.metrics import r2_score"
   ]
  },
  {
   "cell_type": "code",
   "execution_count": 169,
   "metadata": {},
   "outputs": [],
   "source": [
    "volts = np.arange(20,0,-1)\n",
    "dados = pd.DataFrame({ # é os tempos\n",
    "    \"primeira gravação\": np.array([0,.49,.99,1.87,2.24,2.43,2.93,3.71,4.48,5.27,6,6.32,7.89,8.74,9.92,12.10,15.4,16.4,17.76,25.88]),\n",
    "    \"segunda gravação\": np.array([0,0.72,1.38,1.50,1.92,2.55,3.19,3.98,4.74,5.30,6.87,7.49,8.70,9.40,10.37,12.50,14.33,16.55,19.93,27.32]),\n",
    "    \"terceira gravação\": np.array([0,.48,.88,1.52,2.23,2.90,3.26,3.86,4.74,5.28,6.06,6.80,8.05,9.14,10.39,11.33,13.99,16.76,20.03,26.65]),\n",
    "    \"quarta gravação\": np.array([0,0.73,1.05,1.35,2.06,2.49,3.28,3.91,4.64,5.44,6.28,7.04,7.68,8.94,10.32,11,13.71,16.62,20.14,26.94]),\n",
    "    \"quinta gravação\": np.array([0,0.72,1.20,1.74,2.27,2.78,3.46,3.94,4.84,5.50,6.38,7.12,8,9.58,10.73,12.25,14.40,16.73,20.20,26.58])\n",
    "},index = volts)"
   ]
  },
  {
   "cell_type": "code",
   "execution_count": 142,
   "metadata": {},
   "outputs": [
    {
     "data": {
      "text/plain": [
       "array([20, 19, 18, 17, 16, 15, 14, 13, 12, 11, 10,  9,  8,  7,  6,  5,  4,\n",
       "        3,  2,  1])"
      ]
     },
     "execution_count": 142,
     "metadata": {},
     "output_type": "execute_result"
    }
   ],
   "source": [
    "volts"
   ]
  },
  {
   "cell_type": "code",
   "execution_count": 143,
   "metadata": {},
   "outputs": [],
   "source": [
    "media = dados.mean(axis=1) # faz a operação para cada linhas"
   ]
  },
  {
   "cell_type": "code",
   "execution_count": 144,
   "metadata": {},
   "outputs": [
    {
     "data": {
      "text/plain": [
       "20     0.000\n",
       "19     0.628\n",
       "18     1.100\n",
       "17     1.572\n",
       "16     2.144\n",
       "15     2.630\n",
       "14     3.224\n",
       "13     3.880\n",
       "12     4.688\n",
       "11     5.358\n",
       "10     6.318\n",
       "9      6.954\n",
       "8      8.064\n",
       "7      9.160\n",
       "6     10.346\n",
       "5     11.836\n",
       "4     14.366\n",
       "3     16.612\n",
       "2     19.612\n",
       "1     26.674\n",
       "dtype: float64"
      ]
     },
     "execution_count": 144,
     "metadata": {},
     "output_type": "execute_result"
    }
   ],
   "source": [
    "media"
   ]
  },
  {
   "cell_type": "code",
   "execution_count": 145,
   "metadata": {},
   "outputs": [],
   "source": [
    "tempo = np.array([media]).T"
   ]
  },
  {
   "cell_type": "code",
   "execution_count": 146,
   "metadata": {},
   "outputs": [],
   "source": [
    "mediaerr = dados.std(axis=1)"
   ]
  },
  {
   "cell_type": "code",
   "execution_count": 147,
   "metadata": {},
   "outputs": [],
   "source": [
    "mediaerr = np.array([mediaerr.values]).T"
   ]
  },
  {
   "cell_type": "code",
   "execution_count": 148,
   "metadata": {},
   "outputs": [
    {
     "data": {
      "text/plain": [
       "array([[0.        ],\n",
       "       [0.13065221],\n",
       "       [0.19455076],\n",
       "       [0.22687001],\n",
       "       [0.14976648],\n",
       "       [0.20087309],\n",
       "       [0.1921718 ],\n",
       "       [0.10464225],\n",
       "       [0.13608821],\n",
       "       [0.10497619],\n",
       "       [0.34557199],\n",
       "       [0.43241184],\n",
       "       [0.38292297],\n",
       "       [0.33882149],\n",
       "       [0.28814927],\n",
       "       [0.63971087],\n",
       "       [0.64096022],\n",
       "       [0.14549914],\n",
       "       [1.04046624],\n",
       "       [0.53101789]])"
      ]
     },
     "execution_count": 148,
     "metadata": {},
     "output_type": "execute_result"
    }
   ],
   "source": [
    "mediaerr"
   ]
  },
  {
   "cell_type": "markdown",
   "metadata": {},
   "source": [
    "Primeira gravação"
   ]
  },
  {
   "cell_type": "code",
   "execution_count": 149,
   "metadata": {},
   "outputs": [
    {
     "data": {
      "text/html": [
       "<style>#sk-container-id-8 {color: black;}#sk-container-id-8 pre{padding: 0;}#sk-container-id-8 div.sk-toggleable {background-color: white;}#sk-container-id-8 label.sk-toggleable__label {cursor: pointer;display: block;width: 100%;margin-bottom: 0;padding: 0.3em;box-sizing: border-box;text-align: center;}#sk-container-id-8 label.sk-toggleable__label-arrow:before {content: \"▸\";float: left;margin-right: 0.25em;color: #696969;}#sk-container-id-8 label.sk-toggleable__label-arrow:hover:before {color: black;}#sk-container-id-8 div.sk-estimator:hover label.sk-toggleable__label-arrow:before {color: black;}#sk-container-id-8 div.sk-toggleable__content {max-height: 0;max-width: 0;overflow: hidden;text-align: left;background-color: #f0f8ff;}#sk-container-id-8 div.sk-toggleable__content pre {margin: 0.2em;color: black;border-radius: 0.25em;background-color: #f0f8ff;}#sk-container-id-8 input.sk-toggleable__control:checked~div.sk-toggleable__content {max-height: 200px;max-width: 100%;overflow: auto;}#sk-container-id-8 input.sk-toggleable__control:checked~label.sk-toggleable__label-arrow:before {content: \"▾\";}#sk-container-id-8 div.sk-estimator input.sk-toggleable__control:checked~label.sk-toggleable__label {background-color: #d4ebff;}#sk-container-id-8 div.sk-label input.sk-toggleable__control:checked~label.sk-toggleable__label {background-color: #d4ebff;}#sk-container-id-8 input.sk-hidden--visually {border: 0;clip: rect(1px 1px 1px 1px);clip: rect(1px, 1px, 1px, 1px);height: 1px;margin: -1px;overflow: hidden;padding: 0;position: absolute;width: 1px;}#sk-container-id-8 div.sk-estimator {font-family: monospace;background-color: #f0f8ff;border: 1px dotted black;border-radius: 0.25em;box-sizing: border-box;margin-bottom: 0.5em;}#sk-container-id-8 div.sk-estimator:hover {background-color: #d4ebff;}#sk-container-id-8 div.sk-parallel-item::after {content: \"\";width: 100%;border-bottom: 1px solid gray;flex-grow: 1;}#sk-container-id-8 div.sk-label:hover label.sk-toggleable__label {background-color: #d4ebff;}#sk-container-id-8 div.sk-serial::before {content: \"\";position: absolute;border-left: 1px solid gray;box-sizing: border-box;top: 0;bottom: 0;left: 50%;z-index: 0;}#sk-container-id-8 div.sk-serial {display: flex;flex-direction: column;align-items: center;background-color: white;padding-right: 0.2em;padding-left: 0.2em;position: relative;}#sk-container-id-8 div.sk-item {position: relative;z-index: 1;}#sk-container-id-8 div.sk-parallel {display: flex;align-items: stretch;justify-content: center;background-color: white;position: relative;}#sk-container-id-8 div.sk-item::before, #sk-container-id-8 div.sk-parallel-item::before {content: \"\";position: absolute;border-left: 1px solid gray;box-sizing: border-box;top: 0;bottom: 0;left: 50%;z-index: -1;}#sk-container-id-8 div.sk-parallel-item {display: flex;flex-direction: column;z-index: 1;position: relative;background-color: white;}#sk-container-id-8 div.sk-parallel-item:first-child::after {align-self: flex-end;width: 50%;}#sk-container-id-8 div.sk-parallel-item:last-child::after {align-self: flex-start;width: 50%;}#sk-container-id-8 div.sk-parallel-item:only-child::after {width: 0;}#sk-container-id-8 div.sk-dashed-wrapped {border: 1px dashed gray;margin: 0 0.4em 0.5em 0.4em;box-sizing: border-box;padding-bottom: 0.4em;background-color: white;}#sk-container-id-8 div.sk-label label {font-family: monospace;font-weight: bold;display: inline-block;line-height: 1.2em;}#sk-container-id-8 div.sk-label-container {text-align: center;}#sk-container-id-8 div.sk-container {/* jupyter's `normalize.less` sets `[hidden] { display: none; }` but bootstrap.min.css set `[hidden] { display: none !important; }` so we also need the `!important` here to be able to override the default hidden behavior on the sphinx rendered scikit-learn.org. See: https://github.com/scikit-learn/scikit-learn/issues/21755 */display: inline-block !important;position: relative;}#sk-container-id-8 div.sk-text-repr-fallback {display: none;}</style><div id=\"sk-container-id-8\" class=\"sk-top-container\"><div class=\"sk-text-repr-fallback\"><pre>LinearRegression()</pre><b>In a Jupyter environment, please rerun this cell to show the HTML representation or trust the notebook. <br />On GitHub, the HTML representation is unable to render, please try loading this page with nbviewer.org.</b></div><div class=\"sk-container\" hidden><div class=\"sk-item\"><div class=\"sk-estimator sk-toggleable\"><input class=\"sk-toggleable__control sk-hidden--visually\" id=\"sk-estimator-id-8\" type=\"checkbox\" checked><label for=\"sk-estimator-id-8\" class=\"sk-toggleable__label sk-toggleable__label-arrow\">LinearRegression</label><div class=\"sk-toggleable__content\"><pre>LinearRegression()</pre></div></div></div></div></div>"
      ],
      "text/plain": [
       "LinearRegression()"
      ]
     },
     "execution_count": 149,
     "metadata": {},
     "output_type": "execute_result"
    }
   ],
   "source": [
    "model1 = LinearRegression()\n",
    "\n",
    "model1.fit(tempo,np.log(volts))"
   ]
  },
  {
   "cell_type": "code",
   "execution_count": 150,
   "metadata": {},
   "outputs": [
    {
     "data": {
      "text/plain": [
       "array([2.99573227, 2.94443898, 2.89037176, 2.83321334, 2.77258872,\n",
       "       2.7080502 , 2.63905733, 2.56494936, 2.48490665, 2.39789527,\n",
       "       2.30258509, 2.19722458, 2.07944154, 1.94591015, 1.79175947,\n",
       "       1.60943791, 1.38629436, 1.09861229, 0.69314718, 0.        ])"
      ]
     },
     "execution_count": 150,
     "metadata": {},
     "output_type": "execute_result"
    }
   ],
   "source": [
    "np.log(volts)"
   ]
  },
  {
   "cell_type": "code",
   "execution_count": 151,
   "metadata": {},
   "outputs": [],
   "source": [
    "# tempo = tempo.T.flatten()"
   ]
  },
  {
   "cell_type": "code",
   "execution_count": 156,
   "metadata": {},
   "outputs": [
    {
     "data": {
      "text/plain": [
       "<matplotlib.legend.Legend at 0x210fc4a4510>"
      ]
     },
     "execution_count": 156,
     "metadata": {},
     "output_type": "execute_result"
    },
    {
     "data": {
      "image/png": "[encoded data removed]",
      "text/plain": [
       "<Figure size 640x480 with 1 Axes>"
      ]
     },
     "metadata": {},
     "output_type": "display_data"
    }
   ],
   "source": [
    "# tempo = tempo.reshape(-1,1)\n",
    "plt.errorbar(tempo.flatten(),np.log(volts).flatten(),xerr=mediaerr.flatten(),fmt='o',markersize=5,ecolor='red',label=\"média dos dados\")\n",
    "plt.plot(tempo,model1.predict(tempo),label=\"Regressão linear\")\n",
    "plt.title(\"ln V vs tempo\")\n",
    "plt.ylabel(\"ln V\")\n",
    "plt.xlabel(\"tempo (s)\")\n",
    "plt.grid()\n",
    "plt.legend()"
   ]
  },
  {
   "cell_type": "code",
   "execution_count": 157,
   "metadata": {},
   "outputs": [
    {
     "name": "stdout",
     "output_type": "stream",
     "text": [
      "coeficiente angular: [-0.11483933]\n",
      "coeficiente linear: 3.0077387856433795\n",
      "coeficiente de determinação (R²): 0.9990849722665431\n"
     ]
    }
   ],
   "source": [
    "print(f'coeficiente angular: {model1.coef_}')\n",
    "print(f'coeficiente linear: {model1.intercept_}')\n",
    "print(f'coeficiente de determinação (R²): {r2_score(np.log(volts),model1.predict(tempo))}')"
   ]
  },
  {
   "cell_type": "code",
   "execution_count": 173,
   "metadata": {},
   "outputs": [
    {
     "data": {
      "text/plain": [
       "20    0.000000\n",
       "19    0.130652\n",
       "18    0.194551\n",
       "17    0.206954\n",
       "16    0.149766\n",
       "15    0.200873\n",
       "14    0.192172\n",
       "13    0.104642\n",
       "12    0.136088\n",
       "11    0.104976\n",
       "10    0.345572\n",
       "9     0.432412\n",
       "8     0.382923\n",
       "7     0.338821\n",
       "6     0.288149\n",
       "5     0.639711\n",
       "4     0.640960\n",
       "3     0.145499\n",
       "2     1.040466\n",
       "1     0.531018\n",
       "dtype: float64"
      ]
     },
     "execution_count": 173,
     "metadata": {},
     "output_type": "execute_result"
    }
   ],
   "source": [
    "dados.std(axis=1)"
   ]
  }
 ],
 "metadata": {
  "kernelspec": {
   "display_name": "Python 3",
   "language": "python",
   "name": "python3"
  },
  "language_info": {
   "codemirror_mode": {
    "name": "ipython",
    "version": 3
   },
   "file_extension": ".py",
   "mimetype": "text/x-python",
   "name": "python",
   "nbconvert_exporter": "python",
   "pygments_lexer": "ipython3",
   "version": "3.11.4"
  },
  "orig_nbformat": 4
 },
 "nbformat": 4,
 "nbformat_minor": 2
}
